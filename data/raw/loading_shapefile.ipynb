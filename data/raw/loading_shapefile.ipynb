{
 "cells": [
  {
   "cell_type": "code",
   "execution_count": null,
   "metadata": {},
   "outputs": [],
   "source": [
    "import requests\n",
    "import json\n",
    "import csv \n",
    "import pandas as pd\n",
    "import folium\n",
    "import geopandas as gpd\n"
   ]
  },
  {
   "cell_type": "markdown",
   "metadata": {},
   "source": [
    "Do not reload the csv or shapefile below. Manual changes were done in the final_malaysia_states.geojson to match the states. "
   ]
  },
  {
   "cell_type": "code",
   "execution_count": null,
   "metadata": {},
   "outputs": [],
   "source": [
    "geojson_file = \"/Users/mona/final-project-monabr4/data/raw/exported_statis_csv_shapefile/[static]malaysia_states.geojson\"\n",
    "gdf_geojson = gpd.read_file(geojson_file)\n",
    "csv_file = \"/Users/mona/final-project-monabr4/data/final_covid_data.csv\"\n",
    "csv_data = pd.read_csv(csv_file)\n",
    "\n",
    "merged_data = gdf_geojson.merge(csv_data, how='left', left_on='name', right_on='state')\n",
    "merged_data.to_file(\"/Users/mona/final-project-monabr4/data/final_malaysia_shapefile_data.geojson\", driver=\"GeoJSON\")\n"
   ]
  }
 ],
 "metadata": {
  "kernelspec": {
   "display_name": "Python 3",
   "language": "python",
   "name": "python3"
  },
  "language_info": {
   "codemirror_mode": {
    "name": "ipython",
    "version": 3
   },
   "file_extension": ".py",
   "mimetype": "text/x-python",
   "name": "python",
   "nbconvert_exporter": "python",
   "pygments_lexer": "ipython3",
   "version": "3.11.5"
  },
  "orig_nbformat": 4
 },
 "nbformat": 4,
 "nbformat_minor": 2
}
